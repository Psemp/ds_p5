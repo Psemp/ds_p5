{
 "cells": [
  {
   "cell_type": "code",
   "execution_count": null,
   "metadata": {},
   "outputs": [],
   "source": [
    "import pandas as pd\n",
    "import seaborn as sns\n",
    "import numpy as np\n",
    "import os\n",
    "import sys\n",
    "import warnings\n",
    "import datetime\n",
    "import math\n",
    "\n",
    "from sklearn.cluster import KMeans\n",
    "from sklearn.metrics import adjusted_rand_score\n",
    "\n",
    "from collections import namedtuple\n",
    "from matplotlib import pyplot as plt\n",
    "from dotenv import load_dotenv\n",
    "\n",
    "sys.path.append(\"../\")\n",
    "\n",
    "load_dotenv()\n",
    "sns.color_palette('colorblind')\n",
    "plt.style.use('Solarize_Light2')\n",
    "\n",
    "# Setting default DPI, pulling it from dotenv if it exists, setting it on 100 if not\n",
    "\n",
    "try:\n",
    "    pc_dpi = int(os.getenv('DPI'))\n",
    "except TypeError:\n",
    "    pc_dpi = 100\n",
    "if pc_dpi is None:\n",
    "    pc_dpi = 100\n"
   ]
  },
  {
   "cell_type": "code",
   "execution_count": null,
   "metadata": {},
   "outputs": [],
   "source": [
    "dataset = \"../pickles/dataset_pca_maintenance.pkl\"\n",
    "\n",
    "df_pca = pd.read_pickle(filepath_or_buffer=dataset)\n"
   ]
  },
  {
   "cell_type": "code",
   "execution_count": null,
   "metadata": {},
   "outputs": [],
   "source": [
    "kmeans = KMeans(n_clusters=5, random_state=1984)  # Estimator, Setting random state to be reproductible\n",
    "# if random_state = None, numpy rng will setup the random state differently each time it fits the data\n"
   ]
  },
  {
   "cell_type": "code",
   "execution_count": null,
   "metadata": {},
   "outputs": [],
   "source": [
    "df_pca.head()\n"
   ]
  },
  {
   "cell_type": "markdown",
   "metadata": {},
   "source": [
    "# 1 : Purpose / introduction / pitfalls\n",
    "# 2 : Definition of the period\n",
    "# 3 : ARI per period (month per month), determination of optimal period.\n",
    "# 4 : ARI on determined rolling period to optimize maintenance.\n",
    "# 5 : Conclusion\n",
    "\n",
    "<hr>"
   ]
  },
  {
   "cell_type": "markdown",
   "metadata": {},
   "source": [
    "# <u>1 Introduction : </u>\n",
    "\n",
    "- The purpose of this notebook is to provide the necessary tools and answers to obtain the best stability of the model defined in the notebook \"improvements_on_rfm\". The goal is to find the time needed between two actualizations of the model (kmeans with 5 clusters). We are targeting the highest stability possible while trying to lengthen the period as much as possible.\n",
    "- Considering that the clustering model takes into account many temporal features, it is subject to the division of the dataset by period : because the model bases itself on the period between two orders (frequency) and the age of the account (most ancient order), it is by nature not very stable on different time samples."
   ]
  },
  {
   "cell_type": "markdown",
   "metadata": {},
   "source": [
    "# <u>2 : Definition of the period : </u>\n",
    "\n",
    "&emsp;While we have no real notion of the account creation (except the first time a client orders something), we must define the period based on an agreed upon metric. Here it will be defined by the most recent order date, so the most ancient order date will be t0 and the most recent order will be tf.<br>\n",
    "&emsp;Using the actual creation date of the accounts might be a better alternative and a lead worth mentioning. <br>\n",
    "&emsp;The variable checked is \"most_ancient_order_dt\", so we are looking at the most recent \"most_ancient_order_dt\" and the oldest \"most_ancient_order_dt\", which might seem counter-intuitive\n"
   ]
  },
  {
   "cell_type": "code",
   "execution_count": null,
   "metadata": {},
   "outputs": [],
   "source": [
    "print(df_pca[\"most_ancient_order_dt\"].isna().sum())\n"
   ]
  },
  {
   "cell_type": "code",
   "execution_count": null,
   "metadata": {},
   "outputs": [],
   "source": [
    "# Few NAs in [\"most_ancient_order_dt\"], dropping ...\n",
    "\n",
    "df_pca.dropna(subset=[\"most_ancient_order_dt\"], inplace=True)\n"
   ]
  },
  {
   "cell_type": "code",
   "execution_count": null,
   "metadata": {},
   "outputs": [],
   "source": [
    "most_ancient = df_pca[\"most_ancient_order_dt\"].min()\n",
    "most_recent = df_pca[\"most_ancient_order_dt\"].max()\n",
    "\n",
    "period = (most_recent - most_ancient)/np.timedelta64(1, 'M')\n",
    "\n",
    "print(f\"\"\"\n",
    "The most acient order was placed at {most_ancient} and the most recent on {most_recent}.\\\n",
    "\\nThe studied period is {math.ceil(period)} months (rounded up)\n",
    "\"\"\")\n"
   ]
  },
  {
   "cell_type": "code",
   "execution_count": null,
   "metadata": {},
   "outputs": [],
   "source": [
    "def get_period(row, t_zero = most_ancient):\n",
    "    \"\"\"\n",
    "    Returns the difference in month (rounded up) between row[\"most_ancient_order_dt\"]\n",
    "    and t_zero, set by default but can be overwitten.\n",
    "    \"\"\"\n",
    "    return math.ceil((row[\"most_ancient_order_dt\"] - most_ancient)/np.timedelta64(1, 'M'))\n"
   ]
  },
  {
   "cell_type": "code",
   "execution_count": null,
   "metadata": {},
   "outputs": [],
   "source": [
    "df_pca[\"period\"] = df_pca.apply(func=get_period, axis=1)\n"
   ]
  },
  {
   "cell_type": "code",
   "execution_count": null,
   "metadata": {},
   "outputs": [],
   "source": [
    "df_pca[\"period\"].value_counts()\n"
   ]
  },
  {
   "cell_type": "markdown",
   "metadata": {},
   "source": [
    "#### Observations :\n",
    "\n",
    "&emsp;As expected, we have one 0 and one 25 (min/max), the periods will be the group of clients that have ordered between P0 and PStudied, iteratively, so starting at 1 and ending at 25. The repartitions seems otherwise quite good. Let's check.\n"
   ]
  },
  {
   "cell_type": "code",
   "execution_count": null,
   "metadata": {},
   "outputs": [],
   "source": [
    "fig, (ax1) = plt.subplots(\n",
    "    ncols=1,\n",
    "    nrows=1,\n",
    "    figsize=(8, 5),\n",
    "    dpi=pc_dpi,\n",
    ")\n",
    "\n",
    "g = sns.histplot(x=\"period\", data=df_pca, ax=ax1, binwidth=1)\n",
    "\n",
    "###\n",
    "# Titles/Lables\n",
    "fig.suptitle(\"\"\"Amount of clients by the number of month between\n",
    " their first order and the most ancient order\"\"\")\n",
    "#\n",
    "###\n",
    "\n",
    "fig.tight_layout()\n",
    "plt.show()\n"
   ]
  },
  {
   "cell_type": "markdown",
   "metadata": {},
   "source": [
    "#### Observation :\n",
    "\n",
    "\n",
    "&emsp;Due to our definition of the period (based on most ancient order), it was expected to have more and more value as we went closer to PF(inal) <br> \n",
    "&emsp;In the future, the actual account creation date would be very useful.\n",
    "<br><br>\n",
    "&emsp;The ARI works only if the two evaluated samples are of the same length, so we'll need to grab indexes from subset and confront it to the actual dataset.\n"
   ]
  },
  {
   "cell_type": "markdown",
   "metadata": {},
   "source": [
    "# <u> 3 : ARI per period (month per month), stability </u>\n",
    "\n",
    "We will evaluate the stability with the adjusted rand score (cf sklearn doc.).\n",
    "\n",
    "- 1 : Prediction with the full spectrum of data, model fitted on <u><b>the original dataset, not every run</b></u>.\n",
    "- 2 : Calculation of the ARI for period in reversed range (starting at 25, so full dataset) and going towards 1, evaluating rows with the same index (need samples of the same len)\n",
    "- 3 : Plotting the ARI for longer and longer periods of time, selection of the best score."
   ]
  },
  {
   "cell_type": "code",
   "execution_count": null,
   "metadata": {},
   "outputs": [],
   "source": [
    "df_ari = df_pca.copy()\n"
   ]
  },
  {
   "cell_type": "code",
   "execution_count": null,
   "metadata": {},
   "outputs": [],
   "source": [
    "df_pca.head()\n"
   ]
  },
  {
   "cell_type": "code",
   "execution_count": null,
   "metadata": {},
   "outputs": [],
   "source": [
    "df_ari.head()\n"
   ]
  },
  {
   "cell_type": "code",
   "execution_count": null,
   "metadata": {},
   "outputs": [],
   "source": [
    "# Yes theres a typo, kmeanscluster -> kluster\n",
    "kmeans.fit(df_pca.drop(columns=[\"most_ancient_order_dt\", \"period\", \"kluster\"], errors=\"ignore\"))\n",
    "\n",
    "df_pca[\"kluster\"] = kmeans.predict(df_pca.drop(columns=[\"most_ancient_order_dt\", \"period\", \"kluster\"], errors=\"ignore\"))\n"
   ]
  },
  {
   "cell_type": "code",
   "execution_count": null,
   "metadata": {},
   "outputs": [],
   "source": [
    "# Range = 25 --> 1 -- step : 1\n",
    "\n",
    "eval_period = list(range(1, 26, 1))\n",
    "\n",
    "eval_period.reverse()\n"
   ]
  },
  {
   "cell_type": "code",
   "execution_count": null,
   "metadata": {},
   "outputs": [],
   "source": [
    "aris = dict.fromkeys(eval_period)\n",
    "\n",
    "for period in aris.keys():\n",
    "    actual_slice = df_pca[df_pca[\"period\"] <= period]\n",
    "    sample = df_ari[df_ari[\"period\"] <= period]\n",
    "    kmeans.fit(sample.drop(columns=[\"most_ancient_order_dt\", \"period\"]))\n",
    "    labels_predict = kmeans.predict(\n",
    "        sample.drop(columns=[\"most_ancient_order_dt\", \"period\"])\n",
    "        )\n",
    "    score = adjusted_rand_score(labels_true=actual_slice[\"kluster\"].to_numpy(), labels_pred=labels_predict)\n",
    "    aris[period] = score\n"
   ]
  },
  {
   "cell_type": "code",
   "execution_count": null,
   "metadata": {},
   "outputs": [],
   "source": [
    "fig, (ax1) = plt.subplots(\n",
    "    ncols=1,\n",
    "    nrows=1,\n",
    "    figsize=(10, 6),\n",
    "    dpi=pc_dpi,\n",
    ")\n",
    "\n",
    "ax1.plot((list(aris.keys())), (list(aris.values())), color=\"#000331\", marker=\"o\", linewidth=1)\n",
    "ax1.axhline(y=0.8, linestyle=\"dotted\", color=\"royalblue\", linewidth=3)\n",
    "ax1.axhline(y=0.9, linestyle=\"--\", color=\"navy\")\n",
    "\n",
    "###\n",
    "# Titles/Lables\n",
    "fig.suptitle(\"Evolution of Adjusted random score with increasing sample temporality\")\n",
    "ax1.set_xlabel(\"Period of evaluation, in months\")\n",
    "ax1.set_ylabel(\"Adjusted Random Score\")\n",
    "ax1.set_xticks(list(aris.keys()))\n",
    "#\n",
    "###\n",
    "fig.tight_layout()\n",
    "plt.show()\n"
   ]
  },
  {
   "cell_type": "markdown",
   "metadata": {},
   "source": [
    "#### Observation :\n",
    "\n",
    "&emsp;The ARI shows that, to remain relevant, the training data must be at least 5 month old, this period is a little short and we will bump that up to 8 months (next best period, continuous improvement in stability after that). The accuracy represented by the ARI score peaks.<br>\n",
    "&emsp;We will use this 8 month period to define our period upon which we will the optimal number of months between two maintenances to stay relevant\n"
   ]
  },
  {
   "cell_type": "markdown",
   "metadata": {},
   "source": [
    "# <u>4 : ARI on determined rolling period to optimize maintenance.</u>\n",
    "\n",
    "&emsp;We determined 8 month as the optimal period for peak stability in our dataset. We will proceed to a similar process as in #3 but we will be using a rolling period instead of an extending one. We will displace that period for every month in our period and use it to determine when the algorithm must be retrained."
   ]
  },
  {
   "cell_type": "code",
   "execution_count": null,
   "metadata": {},
   "outputs": [],
   "source": [
    "duration = 8\n",
    "start = 0\n",
    "\n",
    "rolling_eval_period = list(range(duration, 26, 1))\n",
    "rolling_aris = dict.fromkeys(rolling_eval_period)\n",
    "\n",
    "for period in rolling_eval_period:\n",
    "    current_p_end = start + duration\n",
    "    rolling_df = df_ari[(df_ari[\"period\"] >= start) & (df_ari[\"period\"] < period)]\n",
    "    from_original = df_pca[(df_pca[\"period\"] >= start) & (df_pca[\"period\"] < period)]\n",
    "    kmeans.fit(rolling_df.drop(columns=[\"most_ancient_order_dt\", \"period\"]))\n",
    "    labels_predict = kmeans.predict(\n",
    "        rolling_df.drop(columns=[\"most_ancient_order_dt\", \"period\"])\n",
    "        )\n",
    "    ar_score = adjusted_rand_score(labels_true=from_original[\"kluster\"].to_numpy(), labels_pred=labels_predict)\n",
    "    rolling_aris[period] = ar_score\n",
    "    start += 1\n"
   ]
  },
  {
   "cell_type": "code",
   "execution_count": null,
   "metadata": {},
   "outputs": [],
   "source": [
    "fig, (ax1) = plt.subplots(\n",
    "    ncols=1,\n",
    "    nrows=1,\n",
    "    figsize=(10, 6),\n",
    "    dpi=pc_dpi,\n",
    ")\n",
    "\n",
    "ax1.plot((list(rolling_aris.keys())), (list(rolling_aris.values())), color=\"#000331\", marker=\"o\", linewidth=1)\n",
    "ax1.axhline(y=0.8, linestyle=\"dotted\", color=\"royalblue\", linewidth=3)\n",
    "ax1.axhline(y=0.9, linestyle=\"--\", color=\"navy\")\n",
    "\n",
    "###\n",
    "# Titles/Lables\n",
    "fig.suptitle(\"Evolution of ARI for temporal stability, rolling period = 8 months\")\n",
    "ax1.set_xlabel(\"Period of evaluation, (0->8 months, 1->9 months etc.)\")\n",
    "ax1.set_ylabel(\"Adjusted Random Score\")\n",
    "ax1.set_xticks(list(rolling_aris.keys()))\n",
    "\n",
    "#\n",
    "###\n",
    "fig.tight_layout()\n",
    "plt.show()\n"
   ]
  },
  {
   "cell_type": "markdown",
   "metadata": {},
   "source": [
    "# <u> 5 Conclusions :</u>\n",
    "\n",
    "&emsp;The ARI over an 8 month rolling period (rolling monthly) stays high regardless of time. This might mean that we need a dataset with a longer total period to distinguish a decrease in stability. For now, it seems the clusters are stable for at least 17 months (25 - 8). This is a possible recommendation, although incomplete since we cannot predict data we do not have. <br>\n",
    "&emsp;For now, maintenance could be done every 17 months according to our calculations - Having more data on an extended timespan might benefit our accuracy on this matter."
   ]
  }
 ],
 "metadata": {
  "kernelspec": {
   "display_name": "Python 3 (ipykernel)",
   "language": "python",
   "name": "python3"
  },
  "language_info": {
   "codemirror_mode": {
    "name": "ipython",
    "version": 3
   },
   "file_extension": ".py",
   "mimetype": "text/x-python",
   "name": "python",
   "nbconvert_exporter": "python",
   "pygments_lexer": "ipython3",
   "version": "3.10.4"
  },
  "vscode": {
   "interpreter": {
    "hash": "a2214c6fb926f71468a18ca7cf946224dc61b1c77c0f95ec2e3a3e68abe6a5ba"
   }
  }
 },
 "nbformat": 4,
 "nbformat_minor": 4
}
