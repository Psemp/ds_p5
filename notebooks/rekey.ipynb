{
 "cells": [
  {
   "cell_type": "code",
   "execution_count": null,
   "metadata": {},
   "outputs": [],
   "source": [
    "import pandas as pd\n",
    "import seaborn as sns\n",
    "import numpy as np\n",
    "import os\n",
    "import sys\n",
    "import time\n",
    "\n",
    "from matplotlib import pyplot as plt\n",
    "from dotenv import load_dotenv\n",
    "\n",
    "sys.path.append(\"../\")\n",
    "\n",
    "data_path = \"../data\"\n",
    "\n",
    "load_dotenv()\n",
    "sns.color_palette('colorblind')\n",
    "plt.style.use('Solarize_Light2')\n",
    "\n",
    "# Setting default DPI, pulling it from dotenv if it exists, setting it on 100 if not\n",
    "\n",
    "try:\n",
    "    pc_dpi = int(os.getenv('DPI'))\n",
    "except TypeError:\n",
    "    pc_dpi = 100\n",
    "if pc_dpi is None:\n",
    "    pc_dpi = 100\n",
    "\n",
    "start = time.perf_counter()\n"
   ]
  },
  {
   "cell_type": "code",
   "execution_count": null,
   "metadata": {},
   "outputs": [],
   "source": [
    "csv_list = []\n",
    "\n",
    "for dirpath, subdirs, files in os.walk(data_path):\n",
    "    for file in files:\n",
    "        if file.endswith(\".csv\") and dirpath != \"../data/optimized\":\n",
    "            csv_list.append(file)\n",
    "\n",
    "df_dict = {}\n",
    "\n",
    "for csv in csv_list:\n",
    "    file_name = f\"../data/{csv}\"\n",
    "    df_dict[f\"{csv[:-4]}\"] = pd.read_csv(file_name)\n",
    "\n",
    "# Our dfs :\n",
    "\n",
    "for key in df_dict:\n",
    "    print(key)\n"
   ]
  },
  {
   "cell_type": "markdown",
   "metadata": {},
   "source": [
    "# 1 : Customers"
   ]
  },
  {
   "cell_type": "code",
   "execution_count": null,
   "metadata": {},
   "outputs": [],
   "source": [
    "df_customers = df_dict[\"olist_customers_dataset\"]\n",
    "\n",
    "df_customers.head()\n"
   ]
  },
  {
   "cell_type": "markdown",
   "metadata": {},
   "source": [
    "## 1.1 : Aliases (customer_id)\n",
    "\n",
    "> Replacing aliases and enforcing new dtype\n",
    "\n",
    "--> Datasets containing \"customer_id\" are :\n",
    "- olist_customers_dataset\n",
    "- olist_orders_dataset\n"
   ]
  },
  {
   "cell_type": "code",
   "execution_count": null,
   "metadata": {},
   "outputs": [],
   "source": [
    "customer_aliases = df_customers[\"customer_id\"].unique()\n",
    "\n",
    "# lenght of df should be len of list of unique aliases are aliases are single use. Checking\n",
    "\n",
    "print(len(df_customers) == len(customer_aliases))\n"
   ]
  },
  {
   "cell_type": "code",
   "execution_count": null,
   "metadata": {},
   "outputs": [],
   "source": [
    "aliases_rekey = {}\n",
    "\n",
    "current_id = 1  # Easier for R/Julia/Etc.\n",
    "\n",
    "for alias in customer_aliases:\n",
    "    aliases_rekey[alias] = current_id\n",
    "    current_id += 1\n"
   ]
  },
  {
   "cell_type": "code",
   "execution_count": null,
   "metadata": {},
   "outputs": [],
   "source": [
    "# Checking that first and last are in dict :\n",
    "\n",
    "print(df_customers.iloc[0][\"customer_id\"] in aliases_rekey.keys())\n",
    "print(df_customers.iloc[-1][\"customer_id\"] in aliases_rekey.keys())\n"
   ]
  },
  {
   "cell_type": "markdown",
   "metadata": {},
   "source": [
    "### 1.1.1 : In Customers\n"
   ]
  },
  {
   "cell_type": "code",
   "execution_count": null,
   "metadata": {},
   "outputs": [],
   "source": [
    "df_customers_light = df_customers.copy()\n",
    "\n",
    "df_customers_light.head()\n"
   ]
  },
  {
   "cell_type": "code",
   "execution_count": null,
   "metadata": {},
   "outputs": [],
   "source": [
    "df_customers_light[\"customer_id\"].replace(to_replace=aliases_rekey, inplace=True)\n"
   ]
  },
  {
   "cell_type": "markdown",
   "metadata": {},
   "source": [
    "### 1.1.2 : In orders"
   ]
  },
  {
   "cell_type": "code",
   "execution_count": null,
   "metadata": {},
   "outputs": [],
   "source": [
    "df_orders = df_dict[\"olist_orders_dataset\"]\n",
    "\n",
    "df_orders_light = df_orders.copy()\n",
    "\n",
    "df_orders_light.head()\n"
   ]
  },
  {
   "cell_type": "code",
   "execution_count": null,
   "metadata": {},
   "outputs": [],
   "source": [
    "df_orders_light[\"customer_id\"].replace(to_replace=aliases_rekey, inplace=True)\n"
   ]
  },
  {
   "cell_type": "code",
   "execution_count": null,
   "metadata": {},
   "outputs": [],
   "source": [
    "df_customers_light[\"customer_id\"] = df_customers_light[\"customer_id\"].astype(np.uint32)\n",
    "df_orders_light[\"customer_id\"] = df_orders_light[\"customer_id\"].astype(np.uint32)\n"
   ]
  },
  {
   "cell_type": "markdown",
   "metadata": {},
   "source": [
    "## 1.2 : Customers_unique_id\n",
    "\n",
    "- Only in customers table"
   ]
  },
  {
   "cell_type": "code",
   "execution_count": null,
   "metadata": {},
   "outputs": [],
   "source": [
    "customers_uids = df_customers[\"customer_unique_id\"].unique()  # Unique id is not unique in this DB\n"
   ]
  },
  {
   "cell_type": "code",
   "execution_count": null,
   "metadata": {},
   "outputs": [],
   "source": [
    "uids_rekey = {}\n",
    "\n",
    "current_id = 1  # Easier for R/Julia/Etc.\n",
    "\n",
    "for uid in customers_uids:\n",
    "    uids_rekey[uid] = current_id\n",
    "    current_id += 1\n"
   ]
  },
  {
   "cell_type": "code",
   "execution_count": null,
   "metadata": {},
   "outputs": [],
   "source": [
    "df_customers_light[\"customer_unique_id\"].replace(to_replace=uids_rekey, inplace=True)\n"
   ]
  },
  {
   "cell_type": "code",
   "execution_count": null,
   "metadata": {},
   "outputs": [],
   "source": [
    "df_customers_light[\"customer_unique_id\"] = df_customers_light[\"customer_unique_id\"].astype(np.uint32)\n"
   ]
  },
  {
   "cell_type": "code",
   "execution_count": null,
   "metadata": {},
   "outputs": [],
   "source": [
    "df_customers_light.info()\n"
   ]
  },
  {
   "cell_type": "markdown",
   "metadata": {},
   "source": [
    "# 2 : Order_id\n",
    "\n",
    "> Replacing hexa order ids and enforcing new dtype (uint32)\n",
    "\n",
    "--> Datasets containing \"order_id\" are :\n",
    "- olist_orders_dataset --> already used as \"df_orders_light | df_orders_light\" \n",
    "- olist_order_items_dataset --> df_order_items | df_order_items_light (creating)\n",
    "- olist_order_payments_dataset --> df_payments | df_payments_light (creating)\n",
    "- olist_order_reviews_dataset --> df_reviews | df_reviews_light (creating)\n"
   ]
  },
  {
   "cell_type": "code",
   "execution_count": null,
   "metadata": {},
   "outputs": [],
   "source": [
    "df_order_items = df_dict[\"olist_order_items_dataset\"]\n",
    "\n",
    "df_order_items_light = df_order_items.copy()\n",
    "\n",
    "df_order_items_light.head()\n"
   ]
  },
  {
   "cell_type": "code",
   "execution_count": null,
   "metadata": {},
   "outputs": [],
   "source": [
    "df_payments = df_dict[\"olist_order_payments_dataset\"]\n",
    "\n",
    "df_payments_light = df_payments.copy()\n",
    "\n",
    "df_payments_light.head()\n"
   ]
  },
  {
   "cell_type": "code",
   "execution_count": null,
   "metadata": {},
   "outputs": [],
   "source": [
    "df_reviews = df_dict[\"olist_order_reviews_dataset\"]\n",
    "\n",
    "df_reviews_light = df_reviews.copy()\n",
    "\n",
    "df_reviews_light.head()\n"
   ]
  },
  {
   "cell_type": "markdown",
   "metadata": {},
   "source": [
    "#### 2.0 Collecting all order_ids and ensuring that all are present\n",
    "\n",
    "> selection through cross checking with others dfs"
   ]
  },
  {
   "cell_type": "code",
   "execution_count": null,
   "metadata": {},
   "outputs": [],
   "source": [
    "order_id_list = df_orders[\"order_id\"].unique()\n"
   ]
  },
  {
   "cell_type": "code",
   "execution_count": null,
   "metadata": {},
   "outputs": [],
   "source": [
    "order_id_rekey = {}\n",
    "\n",
    "current_id = 1  # Easier for R/Julia/Etc.\n",
    "\n",
    "for order_id in order_id_list:\n",
    "    order_id_rekey[order_id] = current_id\n",
    "    current_id += 1\n"
   ]
  },
  {
   "cell_type": "markdown",
   "metadata": {},
   "source": [
    "## 2.1 : Modifying order_ids and enforcing dtype = uint32"
   ]
  },
  {
   "cell_type": "code",
   "execution_count": null,
   "metadata": {},
   "outputs": [],
   "source": [
    "df_orders_light[\"order_id\"].replace(to_replace=order_id_rekey, inplace=True)\n"
   ]
  },
  {
   "cell_type": "code",
   "execution_count": null,
   "metadata": {},
   "outputs": [],
   "source": [
    "df_order_items_light[\"order_id\"].replace(to_replace=order_id_rekey, inplace=True)\n"
   ]
  },
  {
   "cell_type": "code",
   "execution_count": null,
   "metadata": {},
   "outputs": [],
   "source": [
    "df_payments_light[\"order_id\"].replace(to_replace=order_id_rekey, inplace=True)\n"
   ]
  },
  {
   "cell_type": "code",
   "execution_count": null,
   "metadata": {},
   "outputs": [],
   "source": [
    "df_reviews_light[\"order_id\"].replace(to_replace=order_id_rekey, inplace=True)\n"
   ]
  },
  {
   "cell_type": "code",
   "execution_count": null,
   "metadata": {},
   "outputs": [],
   "source": [
    "df_orders_light[\"order_id\"] = df_orders_light[\"order_id\"].astype(np.uint32)\n",
    "df_order_items_light[\"order_id\"] = df_order_items_light[\"order_id\"].astype(np.uint32)\n",
    "df_payments_light[\"order_id\"] = df_payments_light[\"order_id\"].astype(np.uint32)\n",
    "df_reviews_light[\"order_id\"] = df_reviews_light[\"order_id\"].astype(np.uint32)\n"
   ]
  },
  {
   "cell_type": "markdown",
   "metadata": {},
   "source": [
    "# 3 : Product_id\n",
    "\n",
    "> datasets using product_id : \n",
    "- olist_products_dataset --> df_products | df_products_light\n",
    "- olist_order_items_dataset --> already used as \"df_order_items | df_orders_items_light\" "
   ]
  },
  {
   "cell_type": "code",
   "execution_count": null,
   "metadata": {},
   "outputs": [],
   "source": [
    "df_products = df_dict[\"olist_products_dataset\"]\n",
    "\n",
    "df_products_light = df_products.copy()\n",
    "\n",
    "df_products_light.head()\n"
   ]
  },
  {
   "cell_type": "code",
   "execution_count": null,
   "metadata": {},
   "outputs": [],
   "source": [
    "products_id_list = df_products[\"product_id\"].unique()\n"
   ]
  },
  {
   "cell_type": "code",
   "execution_count": null,
   "metadata": {},
   "outputs": [],
   "source": [
    "product_id_rekey = {}\n",
    "\n",
    "current_id = 1  # Easier for R/Julia/Etc.\n",
    "\n",
    "for product_id in products_id_list:\n",
    "    product_id_rekey[product_id] = current_id\n",
    "    current_id += 1\n"
   ]
  },
  {
   "cell_type": "code",
   "execution_count": null,
   "metadata": {},
   "outputs": [],
   "source": [
    "df_products_light[\"product_id\"].replace(to_replace=product_id_rekey, inplace=True)\n"
   ]
  },
  {
   "cell_type": "code",
   "execution_count": null,
   "metadata": {},
   "outputs": [],
   "source": [
    "df_order_items_light[\"product_id\"].replace(to_replace=product_id_rekey, inplace=True)\n"
   ]
  },
  {
   "cell_type": "code",
   "execution_count": null,
   "metadata": {},
   "outputs": [],
   "source": [
    "df_products_light[\"product_id\"] = df_products_light[\"product_id\"].astype(np.uint32)\n",
    "df_order_items_light[\"product_id\"] = df_order_items_light[\"product_id\"].astype(np.uint32)\n"
   ]
  },
  {
   "cell_type": "markdown",
   "metadata": {},
   "source": [
    "# 4 : Sellers Id\n",
    "\n",
    "> sellers_id in :\n",
    "- olist_sellers_dataset --> df_sellers | df_sellers_light (creating)\n",
    "- olist_order_items_dataset --> (already used) df_order_items | df_order_items_light"
   ]
  },
  {
   "cell_type": "code",
   "execution_count": null,
   "metadata": {},
   "outputs": [],
   "source": [
    "df_sellers = df_dict[\"olist_sellers_dataset\"]\n",
    "\n",
    "df_sellers_light = df_sellers.copy()\n",
    "\n",
    "df_sellers_light.head()\n"
   ]
  },
  {
   "cell_type": "code",
   "execution_count": null,
   "metadata": {},
   "outputs": [],
   "source": [
    "sellers_id_list = df_sellers_light[\"seller_id\"].unique()\n"
   ]
  },
  {
   "cell_type": "code",
   "execution_count": null,
   "metadata": {},
   "outputs": [],
   "source": [
    "# Checking all known sellers from order_items are in sellers_id\n",
    "\n",
    "print(all(item in df_order_items[\"seller_id\"].values for item in sellers_id_list))\n"
   ]
  },
  {
   "cell_type": "code",
   "execution_count": null,
   "metadata": {},
   "outputs": [],
   "source": [
    "seller_id_rekey = {}\n",
    "\n",
    "current_id = 1  # Easier for R/Julia/Etc.\n",
    "\n",
    "for seller_id in sellers_id_list:\n",
    "    seller_id_rekey[seller_id] = current_id\n",
    "    current_id += 1\n"
   ]
  },
  {
   "cell_type": "code",
   "execution_count": null,
   "metadata": {},
   "outputs": [],
   "source": [
    "df_order_items_light[\"seller_id\"].replace(to_replace=seller_id_rekey, inplace=True)\n"
   ]
  },
  {
   "cell_type": "code",
   "execution_count": null,
   "metadata": {},
   "outputs": [],
   "source": [
    "df_sellers_light[\"seller_id\"].replace(to_replace=seller_id_rekey, inplace=True)\n"
   ]
  },
  {
   "cell_type": "code",
   "execution_count": null,
   "metadata": {},
   "outputs": [],
   "source": [
    "df_order_items_light[\"seller_id\"] = df_order_items_light[\"seller_id\"].astype(np.uint32)\n",
    "df_sellers_light[\"seller_id\"] = df_sellers_light[\"seller_id\"].astype(np.uint32)\n"
   ]
  },
  {
   "cell_type": "code",
   "execution_count": null,
   "metadata": {},
   "outputs": [],
   "source": [
    "df_dict.keys()\n"
   ]
  },
  {
   "cell_type": "markdown",
   "metadata": {},
   "source": [
    "# 5 : Optimisation of all datasets, comparison & exports"
   ]
  },
  {
   "cell_type": "markdown",
   "metadata": {},
   "source": [
    "## 5.1 : olist_sellers_dataset\n",
    "\n",
    "--> Infos :"
   ]
  },
  {
   "cell_type": "code",
   "execution_count": null,
   "metadata": {},
   "outputs": [],
   "source": [
    "df_sellers_light.info()"
   ]
  },
  {
   "cell_type": "code",
   "execution_count": null,
   "metadata": {},
   "outputs": [],
   "source": [
    "df_sellers_light.head()"
   ]
  },
  {
   "cell_type": "markdown",
   "metadata": {},
   "source": [
    "#### Optimizations :\n",
    "\n",
    "- Zip Code to optimal int\n",
    "- city & state --> No change (to pandas, str = object)\n"
   ]
  },
  {
   "cell_type": "code",
   "execution_count": null,
   "metadata": {},
   "outputs": [],
   "source": [
    "df_sellers_light[\"seller_zip_code_prefix\"].values.max()\n"
   ]
  },
  {
   "cell_type": "code",
   "execution_count": null,
   "metadata": {},
   "outputs": [],
   "source": [
    "# 99730 is over uint 16 max value (65K and changes), uint 32 is less heavy\n",
    "df_sellers_light[\"seller_zip_code_prefix\"] = df_sellers_light[\"seller_zip_code_prefix\"].astype(np.uint32)\n"
   ]
  },
  {
   "cell_type": "code",
   "execution_count": null,
   "metadata": {},
   "outputs": [],
   "source": [
    "df_sellers_light.info()"
   ]
  },
  {
   "cell_type": "code",
   "execution_count": null,
   "metadata": {},
   "outputs": [],
   "source": [
    "df_sellers_light.to_csv(path_or_buf=\"../data/optimized/olist_sellers.csv\", index=False)\n",
    "df_sellers_light.to_pickle(path=\"../pickles/olist_sellers.pkl\")\n"
   ]
  },
  {
   "cell_type": "markdown",
   "metadata": {},
   "source": [
    "# 5.2 : olist_orders_dataset\n",
    "\n",
    "--> Infos"
   ]
  },
  {
   "cell_type": "code",
   "execution_count": null,
   "metadata": {},
   "outputs": [],
   "source": [
    "df_orders_light.info()\n"
   ]
  },
  {
   "cell_type": "code",
   "execution_count": null,
   "metadata": {},
   "outputs": [],
   "source": [
    "df_orders_light.head()\n"
   ]
  },
  {
   "cell_type": "markdown",
   "metadata": {},
   "source": [
    "#### Optimizations :\n",
    "- Rename \"order_purchase_timestamp\" to \"order_purchase_date\" to reflect format\n",
    "- Type enforcing dates for \"order_purchase_timestamp\", \"order_approved_at\", \"order_delivered_carrier_date\" \"order_delivered_customer_date\", \"order_estimated_delivery_date\" --> type = Datetime"
   ]
  },
  {
   "cell_type": "code",
   "execution_count": null,
   "metadata": {},
   "outputs": [],
   "source": [
    "df_orders_light.rename(columns={\"order_purchase_timestamp\": \"order_purchase_dt\"}, inplace=True)\n"
   ]
  },
  {
   "cell_type": "code",
   "execution_count": null,
   "metadata": {},
   "outputs": [],
   "source": [
    "date_cols = [\n",
    "        \"order_purchase_dt\", \"order_approved_at\",\n",
    "        \"order_delivered_carrier_date\", \"order_delivered_customer_date\",\n",
    "        \"order_estimated_delivery_date\"\n",
    "    ]\n",
    "\n",
    "for col in date_cols:\n",
    "    df_orders_light[col] = pd.to_datetime(df_orders_light[col])\n"
   ]
  },
  {
   "cell_type": "code",
   "execution_count": null,
   "metadata": {},
   "outputs": [],
   "source": [
    "df_orders_light.info()\n"
   ]
  },
  {
   "cell_type": "code",
   "execution_count": null,
   "metadata": {},
   "outputs": [],
   "source": [
    "df_orders_light.to_csv(path_or_buf=\"../data/optimized/olist_orders.csv\", index=False)\n",
    "df_orders_light.to_pickle(path=\"../pickles/olist_orders.pkl\")\n"
   ]
  },
  {
   "cell_type": "markdown",
   "metadata": {},
   "source": [
    "# 5.3 : olist_order_items_dataset\n",
    "\n",
    "--> Infos"
   ]
  },
  {
   "cell_type": "code",
   "execution_count": null,
   "metadata": {},
   "outputs": [],
   "source": [
    "df_order_items_light.info()\n"
   ]
  },
  {
   "cell_type": "code",
   "execution_count": null,
   "metadata": {},
   "outputs": [],
   "source": [
    "df_order_items_light.head()\n"
   ]
  },
  {
   "cell_type": "markdown",
   "metadata": {},
   "source": [
    "#### Optimizations :\n",
    "- order_item_id min_max type\n",
    "- enforce dtype = datetime on shipping_limit_date"
   ]
  },
  {
   "cell_type": "code",
   "execution_count": null,
   "metadata": {},
   "outputs": [],
   "source": [
    "df_order_items_light[\"order_item_id\"].values.max()\n"
   ]
  },
  {
   "cell_type": "code",
   "execution_count": null,
   "metadata": {},
   "outputs": [],
   "source": [
    "# 21 is able to go down to uint8\n",
    "\n",
    "df_order_items_light[\"order_item_id\"] = df_order_items_light[\"order_item_id\"].astype(np.uint8)\n"
   ]
  },
  {
   "cell_type": "code",
   "execution_count": null,
   "metadata": {},
   "outputs": [],
   "source": [
    "df_order_items_light[\"shipping_limit_date\"] = pd.to_datetime(df_order_items_light[\"shipping_limit_date\"])\n"
   ]
  },
  {
   "cell_type": "code",
   "execution_count": null,
   "metadata": {},
   "outputs": [],
   "source": [
    "df_order_items_light.info()\n"
   ]
  },
  {
   "cell_type": "code",
   "execution_count": null,
   "metadata": {},
   "outputs": [],
   "source": [
    "df_order_items_light.to_csv(path_or_buf=\"../data/optimized/olist_order_items.csv\", index=False)\n",
    "df_order_items_light.to_pickle(path=\"../pickles/olist_order_items.pkl\")\n"
   ]
  },
  {
   "cell_type": "markdown",
   "metadata": {},
   "source": [
    "# 5.4 : olist_customers_dataset\n",
    "\n",
    "--> Infos :"
   ]
  },
  {
   "cell_type": "code",
   "execution_count": null,
   "metadata": {},
   "outputs": [],
   "source": [
    "df_customers_light.info()\n"
   ]
  },
  {
   "cell_type": "code",
   "execution_count": null,
   "metadata": {},
   "outputs": [],
   "source": [
    "df_customers_light.head()\n"
   ]
  },
  {
   "cell_type": "markdown",
   "metadata": {},
   "source": [
    "#### Optimization :\n",
    "\n",
    "- Zip Code down to uint32"
   ]
  },
  {
   "cell_type": "code",
   "execution_count": null,
   "metadata": {},
   "outputs": [],
   "source": [
    "zip_pre = \"customer_zip_code_prefix\"\n",
    "df_customers_light[zip_pre] = df_customers_light[zip_pre].astype(np.uint32)\n"
   ]
  },
  {
   "cell_type": "code",
   "execution_count": null,
   "metadata": {},
   "outputs": [],
   "source": [
    "df_customers_light.to_csv(path_or_buf=\"../data/optimized/olist_customers.csv\", index=False)\n",
    "df_customers_light.to_pickle(path=\"../pickles/olist_customers.pkl\")\n"
   ]
  },
  {
   "cell_type": "markdown",
   "metadata": {},
   "source": [
    "# 5.5 : olist_order_payments_dataset\n",
    "\n",
    "--> Infos :"
   ]
  },
  {
   "cell_type": "code",
   "execution_count": null,
   "metadata": {},
   "outputs": [],
   "source": [
    "df_payments_light.info()\n"
   ]
  },
  {
   "cell_type": "code",
   "execution_count": null,
   "metadata": {},
   "outputs": [],
   "source": [
    "df_payments_light.head()\n"
   ]
  },
  {
   "cell_type": "markdown",
   "metadata": {},
   "source": [
    "#### Optimizations : \n",
    "\n",
    "- MinMax \"payment_sequential\" & \"payment_installments\" dtypes\n"
   ]
  },
  {
   "cell_type": "code",
   "execution_count": null,
   "metadata": {},
   "outputs": [],
   "source": [
    "print(\"max payment_sequential : \", df_payments_light[\"payment_sequential\"].values.max())\n",
    "print(\"max payment_installments : \", df_payments_light[\"payment_installments\"].values.max())"
   ]
  },
  {
   "cell_type": "code",
   "execution_count": null,
   "metadata": {},
   "outputs": [],
   "source": [
    "df_payments_light[\"payment_sequential\"] = df_payments_light[\"payment_sequential\"].astype(np.uint8)\n",
    "df_payments_light[\"payment_installments\"] = df_payments_light[\"payment_installments\"].astype(np.uint8)\n"
   ]
  },
  {
   "cell_type": "code",
   "execution_count": null,
   "metadata": {},
   "outputs": [],
   "source": [
    "df_payments_light.info()\n"
   ]
  },
  {
   "cell_type": "code",
   "execution_count": null,
   "metadata": {},
   "outputs": [],
   "source": [
    "df_payments_light.to_csv(path_or_buf=\"../data/optimized/olist_payments.csv\", index=False)\n",
    "df_payments_light.to_pickle(path=\"../pickles/olist_payments.pkl\")\n"
   ]
  },
  {
   "cell_type": "markdown",
   "metadata": {},
   "source": [
    "# 5.6 : olist_order_reviews_dataset\n",
    "\n",
    "--> Infos :"
   ]
  },
  {
   "cell_type": "code",
   "execution_count": null,
   "metadata": {},
   "outputs": [],
   "source": [
    "df_reviews_light.info()\n"
   ]
  },
  {
   "cell_type": "code",
   "execution_count": null,
   "metadata": {},
   "outputs": [],
   "source": [
    "df_reviews_light.head()\n"
   ]
  },
  {
   "cell_type": "markdown",
   "metadata": {},
   "source": [
    "#### Optimization :\n",
    "\n",
    "- Review id from 32hexa to int\n",
    "- review score min_max\n",
    "- review_answer_timestamp rename to review_answer_dt\n",
    "- enforcing correct dtype for both datetimes"
   ]
  },
  {
   "cell_type": "code",
   "execution_count": null,
   "metadata": {},
   "outputs": [],
   "source": [
    "review_id_list = df_reviews_light[\"review_id\"].unique()\n",
    "\n",
    "print(\"Same len : \", len(review_id_list) == len(df_reviews_light))\n"
   ]
  },
  {
   "cell_type": "code",
   "execution_count": null,
   "metadata": {},
   "outputs": [],
   "source": [
    "review_id_rekey = {}\n",
    "\n",
    "current_id = 1  # Easier for R/Julia/Etc.\n",
    "\n",
    "for review_id in review_id_list:\n",
    "    review_id_rekey[review_id] = current_id\n",
    "    current_id += 1\n"
   ]
  },
  {
   "cell_type": "code",
   "execution_count": null,
   "metadata": {},
   "outputs": [],
   "source": [
    "df_reviews_light[\"review_id\"].replace(to_replace=review_id_rekey, inplace=True)\n"
   ]
  },
  {
   "cell_type": "code",
   "execution_count": null,
   "metadata": {},
   "outputs": [],
   "source": [
    "df_reviews_light[\"review_score\"].values.max()\n"
   ]
  },
  {
   "cell_type": "code",
   "execution_count": null,
   "metadata": {},
   "outputs": [],
   "source": [
    "df_reviews_light.rename(columns={\"review_answer_timestamp\": \"review_answer_dt\"}, inplace=True)\n",
    "\n",
    "df_reviews_light[\"review_answer_dt\"] = pd.to_datetime(df_reviews_light[\"review_answer_dt\"])\n",
    "df_reviews_light[\"review_creation_date\"] = pd.to_datetime(df_reviews_light[\"review_creation_date\"])\n"
   ]
  },
  {
   "cell_type": "code",
   "execution_count": null,
   "metadata": {},
   "outputs": [],
   "source": [
    "df_reviews_light[\"review_score\"] = df_reviews_light[\"review_score\"].astype(np.uint8)\n",
    "df_reviews_light[\"review_id\"] = df_reviews_light[\"review_id\"].astype(np.uint32)\n"
   ]
  },
  {
   "cell_type": "code",
   "execution_count": null,
   "metadata": {},
   "outputs": [],
   "source": [
    "df_reviews_light.info()\n"
   ]
  },
  {
   "cell_type": "code",
   "execution_count": null,
   "metadata": {},
   "outputs": [],
   "source": [
    "df_reviews_light.to_csv(path_or_buf=\"../data/optimized/olist_reviews.csv\", index=False)\n",
    "df_reviews_light.to_pickle(path=\"../pickles/olist_reviews.pkl\")\n"
   ]
  },
  {
   "cell_type": "markdown",
   "metadata": {},
   "source": [
    "# 5.7 : olist_products_dataset\n",
    "\n",
    "--> Infos :"
   ]
  },
  {
   "cell_type": "code",
   "execution_count": null,
   "metadata": {},
   "outputs": [],
   "source": [
    "df_products_light.info()\n"
   ]
  },
  {
   "cell_type": "code",
   "execution_count": null,
   "metadata": {},
   "outputs": [],
   "source": [
    "df_products_light.head()\n"
   ]
  },
  {
   "cell_type": "markdown",
   "metadata": {},
   "source": [
    "#### Optimizations :\n",
    "\n",
    "- product_name_lenght to minimum int (see below *)\n",
    "- product_description_lenght to minimum int (counting chars does not require floating point)\n",
    "- product_photos_qty to int (see above)"
   ]
  },
  {
   "cell_type": "code",
   "execution_count": null,
   "metadata": {},
   "outputs": [],
   "source": [
    "print(\"max name length : \", max(df_products_light[\"product_name_lenght\"].values))\n",
    "print(\"max desc. length : \", max(df_products_light[\"product_description_lenght\"].values))\n",
    "print(\"max photo qty : \", max(df_products_light[\"product_photos_qty\"].values))\n"
   ]
  },
  {
   "cell_type": "code",
   "execution_count": null,
   "metadata": {},
   "outputs": [],
   "source": [
    "# unsigned 8, 16 and 8 respectively : \n",
    "\n",
    "# Nan count :\n",
    "\n",
    "print(\"Product Name Lenght NAN : \", df_products_light[\"product_name_lenght\"].isna().sum())\n",
    "print(\"Product Desc Lenght NAN : \", df_products_light[\"product_description_lenght\"].isna().sum())\n",
    "print(\"Product Photo Qty. NAN : \", df_products_light[\"product_photos_qty\"].isna().sum())\n"
   ]
  },
  {
   "cell_type": "code",
   "execution_count": null,
   "metadata": {},
   "outputs": [],
   "source": [
    "# Fill w/ 0s\n",
    "\n",
    "df_products_light[\"product_name_lenght\"].fillna(value=0, inplace=True)\n",
    "df_products_light[\"product_description_lenght\"].fillna(value=0, inplace=True)\n",
    "df_products_light[\"product_photos_qty\"].fillna(value=0, inplace=True)\n"
   ]
  },
  {
   "cell_type": "code",
   "execution_count": null,
   "metadata": {},
   "outputs": [],
   "source": [
    "# unsigned 8, 16 and 8 respectively : \n",
    "\n",
    "print(\"Product Name Lenght NAN : \", df_products_light[\"product_name_lenght\"].isna().sum())\n",
    "print(\"Product Desc Lenght NAN : \", df_products_light[\"product_description_lenght\"].isna().sum())\n",
    "print(\"Product Photo Qty. NAN : \", df_products_light[\"product_photos_qty\"].isna().sum())\n"
   ]
  },
  {
   "cell_type": "code",
   "execution_count": null,
   "metadata": {},
   "outputs": [],
   "source": [
    "df_products_light[\"product_name_lenght\"] = df_products_light[\"product_name_lenght\"].astype(np.uint8)\n",
    "df_products_light[\"product_description_lenght\"] = df_products_light[\"product_description_lenght\"].astype(np.uint16)\n",
    "df_products_light[\"product_photos_qty\"] = df_products_light[\"product_photos_qty\"].astype(np.uint8)\n"
   ]
  },
  {
   "cell_type": "code",
   "execution_count": null,
   "metadata": {},
   "outputs": [],
   "source": [
    "df_products_light.info()\n"
   ]
  },
  {
   "cell_type": "code",
   "execution_count": null,
   "metadata": {},
   "outputs": [],
   "source": [
    "df_products_light.to_csv(path_or_buf=\"../data/optimized/olist_products.csv\", index=False)\n",
    "df_products_light.to_pickle(path=\"../pickles/olist_products.pkl\")\n"
   ]
  },
  {
   "cell_type": "markdown",
   "metadata": {},
   "source": [
    "# Conclusion : \n",
    "\n",
    "- The goal of this notebook was purely to optimize future operations by enforcing correct data types, removing hexa 32 chars for a lighter format (uint32) as ids\n",
    "- A huge part could (and would, if not for a few blue screens) optimized by using as multiprocessing Pool on pd.DataFrame.replace() operatations. Most computers designed for those tasks have at least 8 cores so we could expect a minimum of around 8times faster exec with mp.\n",
    "- Let's calculate the raw gain of memory, ignoring any gain resulting from a comparison etc., just the rough original vs. light diff."
   ]
  },
  {
   "cell_type": "code",
   "execution_count": null,
   "metadata": {},
   "outputs": [],
   "source": [
    "# Using DataFrame.memory_usage(index=True).sum()\n",
    "\n",
    "diff_dict = {}\n",
    "\n",
    "diff_dict[\"sellers\"] = df_sellers.memory_usage(index=True).sum() - df_sellers_light.memory_usage(index=True).sum()\n",
    "diff_dict[\"orders\"] = df_orders.memory_usage(index=True).sum() - df_orders_light.memory_usage(index=True).sum()\n",
    "diff_dict[\"order_items\"] = df_order_items.memory_usage(index=True).sum() - df_order_items_light.memory_usage(index=True).sum()\n",
    "diff_dict[\"customers\"] = df_customers.memory_usage(index=True).sum() - df_customers_light.memory_usage(index=True).sum()\n",
    "diff_dict[\"payments\"] = df_payments.memory_usage(index=True).sum() - df_payments_light.memory_usage(index=True).sum()\n",
    "diff_dict[\"reviews\"] = df_reviews.memory_usage(index=True).sum() - df_reviews_light.memory_usage(index=True).sum()\n",
    "diff_dict[\"products\"] = df_products.memory_usage(index=True).sum() - df_products_light.memory_usage(index=True).sum()\n"
   ]
  },
  {
   "cell_type": "code",
   "execution_count": null,
   "metadata": {},
   "outputs": [],
   "source": [
    "diff_dict"
   ]
  },
  {
   "cell_type": "code",
   "execution_count": null,
   "metadata": {},
   "outputs": [],
   "source": [
    "total_diff = sum(list(diff_dict.values()))\n",
    "\n",
    "print(f\"total diff = {total_diff / 1000000} Mega bytes\")\n"
   ]
  },
  {
   "cell_type": "markdown",
   "metadata": {},
   "source": [
    "8.3Mbytes, not bad, close to two MP3 songs in optimization"
   ]
  },
  {
   "cell_type": "code",
   "execution_count": null,
   "metadata": {},
   "outputs": [],
   "source": [
    "og_size = 0\n",
    "\n",
    "for df in df_dict:\n",
    "    og_size += df_dict[df].memory_usage(index=True).sum()\n",
    "\n",
    "print(og_size / 1000000)\n"
   ]
  },
  {
   "cell_type": "code",
   "execution_count": null,
   "metadata": {},
   "outputs": [],
   "source": [
    "end = time.perf_counter()\n",
    "\n",
    "execution_period = (end - start)\n",
    "print(f\"Duration of execution {execution_period}s\")\n",
    "\n",
    "print(f\"Reduction of {round((total_diff / og_size) * 100, ndigits=2)}%\")\n"
   ]
  },
  {
   "cell_type": "markdown",
   "metadata": {},
   "source": [
    "It takes a while but it will save us more that it cost us to convert. The type enforcement will make calculations faster and we shaved around 29% of the original dataset."
   ]
  }
 ],
 "metadata": {
  "kernelspec": {
   "display_name": "Python 3.10.4 ('env': venv)",
   "language": "python",
   "name": "python3"
  },
  "language_info": {
   "codemirror_mode": {
    "name": "ipython",
    "version": 3
   },
   "file_extension": ".py",
   "mimetype": "text/x-python",
   "name": "python",
   "nbconvert_exporter": "python",
   "pygments_lexer": "ipython3",
   "version": "3.10.4"
  },
  "vscode": {
   "interpreter": {
    "hash": "a2214c6fb926f71468a18ca7cf946224dc61b1c77c0f95ec2e3a3e68abe6a5ba"
   }
  }
 },
 "nbformat": 4,
 "nbformat_minor": 2
}
