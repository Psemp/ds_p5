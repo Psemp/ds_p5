{
 "cells": [
  {
   "cell_type": "code",
   "execution_count": null,
   "metadata": {},
   "outputs": [],
   "source": [
    "import pandas as pd\n",
    "import seaborn as sns\n",
    "import numpy as np\n",
    "import os\n",
    "import sys\n",
    "import warnings\n",
    "\n",
    "import time\n",
    "\n",
    "from matplotlib import pyplot as plt\n",
    "from dotenv import load_dotenv\n",
    "\n",
    "load_dotenv()\n",
    "sns.color_palette('colorblind')\n",
    "plt.style.use('Solarize_Light2')\n",
    "\n",
    "# Setting default DPI, pulling it from dotenv if it exists, setting it on 100 if not\n",
    "\n",
    "try:\n",
    "    pc_dpi = int(os.getenv('DPI'))\n",
    "except TypeError:\n",
    "    pc_dpi = 100\n",
    "if pc_dpi is None:\n",
    "    pc_dpi = 100\n",
    "\n",
    "sys.path.append(\"../\")\n"
   ]
  },
  {
   "cell_type": "markdown",
   "metadata": {},
   "source": [
    "# The only goal of this notebook is to associate lat/lon to each customer and seller to represent it on a map\n",
    "\n",
    "As it will be more code than comment and mostly not interesting on a marketing POV, it is separated from the rest of the notebooks\n",
    "\n",
    "<hr>\n",
    "\n",
    "Prerequisites :\n",
    "\n",
    "- Optimizations on sellers\n",
    "- Pre execution of rfm"
   ]
  },
  {
   "cell_type": "code",
   "execution_count": null,
   "metadata": {},
   "outputs": [],
   "source": [
    "data_orders = \"../data/optimized/olist_orders.csv\"\n",
    "data_gps = \"../data/olist_geolocation_dataset.csv\"\n",
    "data_sellers = \"../data/optimized/olist_sellers.csv\"\n",
    "data_cx = \"../data/optimized/olist_customers.csv\"\n",
    "data_rfm = \"../data/optimized/cx_rfm.csv\"\n"
   ]
  },
  {
   "cell_type": "code",
   "execution_count": null,
   "metadata": {},
   "outputs": [],
   "source": [
    "tzero = time.perf_counter()\n",
    "\n",
    "df_sellers = pd.read_csv(data_sellers)\n",
    "df_cx = pd.read_csv(data_cx)\n",
    "df_rfm = pd.read_csv(data_rfm)\n",
    "df_gps = pd.read_csv(data_gps)\n",
    "df_orders = pd.read_csv(data_orders)\n"
   ]
  },
  {
   "cell_type": "code",
   "execution_count": null,
   "metadata": {},
   "outputs": [],
   "source": [
    "df_gps.head()\n"
   ]
  },
  {
   "cell_type": "code",
   "execution_count": null,
   "metadata": {},
   "outputs": [],
   "source": [
    "df_gps_for_cx = df_gps[[\"geolocation_zip_code_prefix\", \"geolocation_lat\", \"geolocation_lng\"]]\n",
    "df_gps_for_sellers = df_gps[[\"geolocation_zip_code_prefix\", \"geolocation_lat\", \"geolocation_lng\"]]\n",
    "df_gps_for_cx = df_gps_for_cx.rename(columns={\"geolocation_zip_code_prefix\": \"customer_zip_code_prefix\"})\n",
    "df_gps_for_sellers = df_gps_for_sellers.rename(columns={\"geolocation_zip_code_prefix\": \"seller_zip_code_prefix\"})\n"
   ]
  },
  {
   "cell_type": "code",
   "execution_count": null,
   "metadata": {},
   "outputs": [],
   "source": [
    "new_df_cx = pd.merge(left=df_cx, right=df_gps_for_cx, on=\"customer_zip_code_prefix\", how=\"outer\", copy=False)\n",
    "new_df_sellers = pd.merge(left=df_sellers, right=df_gps_for_sellers, on=\"seller_zip_code_prefix\", how=\"outer\", copy=False)\n"
   ]
  },
  {
   "cell_type": "code",
   "execution_count": null,
   "metadata": {},
   "outputs": [],
   "source": [
    "df_cx = new_df_cx.drop_duplicates(subset=\"customer_id\").reset_index(drop=True).dropna(subset=\"customer_id\")\n",
    "df_sellers = new_df_sellers.drop_duplicates(subset=\"seller_id\").reset_index(drop=True).dropna(subset=\"seller_id\")\n"
   ]
  },
  {
   "cell_type": "code",
   "execution_count": null,
   "metadata": {},
   "outputs": [],
   "source": [
    "df_cx = df_cx.rename(columns={\"geolocation_lat\": \"lat\", \"geolocation_lng\": \"lon\"})\n",
    "df_sellers = df_sellers.rename(columns={\"geolocation_lat\": \"lat\", \"geolocation_lng\": \"lon\"})\n"
   ]
  },
  {
   "cell_type": "code",
   "execution_count": null,
   "metadata": {},
   "outputs": [],
   "source": [
    "df_cx.head()\n"
   ]
  },
  {
   "cell_type": "code",
   "execution_count": null,
   "metadata": {},
   "outputs": [],
   "source": [
    "df_cx.dtypes\n"
   ]
  },
  {
   "cell_type": "code",
   "execution_count": null,
   "metadata": {},
   "outputs": [],
   "source": [
    "df_cx[\"customer_id\"] = df_cx[\"customer_id\"].astype(np.uint32)\n",
    "df_cx[\"customer_unique_id\"] = df_cx[\"customer_unique_id\"].astype(np.uint32)\n",
    "df_cx[\"customer_zip_code_prefix\"] = df_cx[\"customer_zip_code_prefix\"].astype(np.uint32)\n"
   ]
  },
  {
   "cell_type": "code",
   "execution_count": null,
   "metadata": {},
   "outputs": [],
   "source": [
    "df_sellers.dtypes\n"
   ]
  },
  {
   "cell_type": "code",
   "execution_count": null,
   "metadata": {},
   "outputs": [],
   "source": [
    "df_sellers[\"seller_id\"] = df_sellers[\"seller_id\"].astype(np.uint32)\n",
    "df_sellers[\"seller_zip_code_prefix\"] = df_sellers[\"seller_zip_code_prefix\"].astype(np.uint32)\n"
   ]
  },
  {
   "cell_type": "code",
   "execution_count": null,
   "metadata": {},
   "outputs": [],
   "source": [
    "df_rfm.head()\n"
   ]
  },
  {
   "cell_type": "code",
   "execution_count": null,
   "metadata": {},
   "outputs": [],
   "source": [
    "for index, row in df_rfm.iterrows():\n",
    "    aliases = df_cx[df_cx[\"customer_unique_id\"] == row[\"customer_uid\"]]\n",
    "    most_recent = aliases[\"customer_id\"].max()\n",
    "    most_recent_alias = df_cx[df_cx[\"customer_id\"] == most_recent]\n",
    "    lat = float(most_recent_alias[\"lat\"].values)\n",
    "    lon = float(most_recent_alias[\"lon\"].values)\n",
    "    df_rfm.loc[index, \"lat\"] = lat\n",
    "    df_rfm.loc[index, \"lon\"] = lon\n"
   ]
  },
  {
   "cell_type": "code",
   "execution_count": null,
   "metadata": {},
   "outputs": [],
   "source": [
    "# Exports :\n",
    "\n",
    "df_cx.to_csv(path_or_buf=\"../data/optimized/geoloc_applied/olist_customers.csv\", index=False)\n",
    "df_sellers.to_csv(path_or_buf=\"../data/optimized/geoloc_applied/olist_sellers.csv\", index=False)\n",
    "df_rfm.to_csv(path_or_buf=\"../data/optimized/geoloc_applied/cx_rfm.csv\", index=False)\n",
    "\n",
    "df_rfm.to_pickle(path=\"../pickles/geolocd/cx_rfm.pkl\")\n"
   ]
  },
  {
   "cell_type": "code",
   "execution_count": null,
   "metadata": {},
   "outputs": [],
   "source": [
    "tfinal = time.perf_counter()\n",
    "\n",
    "print(f\"Exucuted in {tfinal - tzero}s\")\n"
   ]
  }
 ],
 "metadata": {
  "kernelspec": {
   "display_name": "Python 3.10.4 ('env': venv)",
   "language": "python",
   "name": "python3"
  },
  "language_info": {
   "codemirror_mode": {
    "name": "ipython",
    "version": 3
   },
   "file_extension": ".py",
   "mimetype": "text/x-python",
   "name": "python",
   "nbconvert_exporter": "python",
   "pygments_lexer": "ipython3",
   "version": "3.10.4"
  },
  "vscode": {
   "interpreter": {
    "hash": "a2214c6fb926f71468a18ca7cf946224dc61b1c77c0f95ec2e3a3e68abe6a5ba"
   }
  }
 },
 "nbformat": 4,
 "nbformat_minor": 2
}
